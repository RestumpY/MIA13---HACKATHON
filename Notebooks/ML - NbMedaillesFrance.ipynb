{
 "cells": [
  {
   "cell_type": "code",
   "execution_count": 70,
   "id": "9de6dee3",
   "metadata": {},
   "outputs": [],
   "source": [
    "import pandas as pd\n",
    "from sklearn.model_selection import train_test_split\n",
    "from sklearn.linear_model import LinearRegression\n",
    "from sklearn.ensemble import RandomForestRegressor\n",
    "from sklearn.metrics import mean_squared_error\n",
    "import warnings\n",
    "\n",
    "warnings.filterwarnings(\"ignore\")\n",
    "\n",
    "# Import des fichiers\n",
    "hosts_df = pd.read_csv('olympic_hosts.csv')\n",
    "medals_df = pd.read_csv('olympic_medals.csv')"
   ]
  },
  {
   "cell_type": "code",
   "execution_count": 71,
   "id": "5c4766ca",
   "metadata": {},
   "outputs": [
    {
     "data": {
      "text/plain": [
       "Index(['Unnamed: 0', 'discipline_title', 'game_slug', 'event_title',\n",
       "       'event_gender', 'medal_type', 'participant_type', 'participant_title',\n",
       "       'athlete_url', 'athlete_full_name', 'country_name', 'country_code',\n",
       "       'country_3_letter_code'],\n",
       "      dtype='object')"
      ]
     },
     "execution_count": 71,
     "metadata": {},
     "output_type": "execute_result"
    }
   ],
   "source": [
    "# Renommage de la colonne 'slug_game' pour avoir une cohésion\n",
    "medals_df = medals_df.rename({'slug_game': 'game_slug'}, axis=1)\n",
    "medals_df.columns"
   ]
  },
  {
   "cell_type": "code",
   "execution_count": 72,
   "id": "f17da8fc",
   "metadata": {},
   "outputs": [
    {
     "name": "stdout",
     "output_type": "stream",
     "text": [
      "  discipline_title     game_slug    event_title event_gender medal_type  \\\n",
      "0          Curling  beijing-2022  Mixed Doubles        Mixed       GOLD   \n",
      "1          Curling  beijing-2022  Mixed Doubles        Mixed       GOLD   \n",
      "2          Curling  beijing-2022  Mixed Doubles        Mixed     SILVER   \n",
      "3          Curling  beijing-2022  Mixed Doubles        Mixed     SILVER   \n",
      "4          Curling  beijing-2022  Mixed Doubles        Mixed     BRONZE   \n",
      "\n",
      "  participant_type     athlete_full_name country_name country_code  \\\n",
      "0         GameTeam  Stefania CONSTANTINI        Italy           IT   \n",
      "1         GameTeam          Amos MOSANER        Italy           IT   \n",
      "2         GameTeam      Kristin SKASLIEN       Norway           NO   \n",
      "3         GameTeam    Magnus NEDREGOTTEN       Norway           NO   \n",
      "4         GameTeam         Almida DE VAL       Sweden           SE   \n",
      "\n",
      "  country_3_letter_code  \n",
      "0                   ITA  \n",
      "1                   ITA  \n",
      "2                   NOR  \n",
      "3                   NOR  \n",
      "4                   SWE  \n"
     ]
    }
   ],
   "source": [
    "# Supprimer les colonnes non nécessaires\n",
    "medals_df.drop(['Unnamed: 0', 'participant_title', 'athlete_url'], axis=1, inplace=True)\n",
    "print(medals_df.head())"
   ]
  },
  {
   "cell_type": "code",
   "execution_count": 73,
   "id": "f83deecf",
   "metadata": {},
   "outputs": [
    {
     "name": "stdout",
     "output_type": "stream",
     "text": [
      "     discipline_title     game_slug              event_title event_gender  \\\n",
      "26   Freestyle Skiing  beijing-2022  Women's Freeski Big Air        Women   \n",
      "88          Snowboard  beijing-2022  Women's Snowboard Cross        Women   \n",
      "139    Figure skating  beijing-2022                Ice Dance        Mixed   \n",
      "140    Figure skating  beijing-2022                Ice Dance        Mixed   \n",
      "172          Biathlon  beijing-2022     Men's 12.5km Pursuit          Men   \n",
      "\n",
      "    medal_type participant_type       athlete_full_name country_name  \\\n",
      "26      SILVER          Athlete             Tess LEDEUX       France   \n",
      "88      SILVER          Athlete         Chloe TRESPEUCH       France   \n",
      "139       GOLD         GameTeam     Gabriella PAPADAKIS       France   \n",
      "140       GOLD         GameTeam       Guillaume CIZERON       France   \n",
      "172       GOLD          Athlete  Quentin FILLON MAILLET       France   \n",
      "\n",
      "    country_code country_3_letter_code  \n",
      "26            FR                   FRA  \n",
      "88            FR                   FRA  \n",
      "139           FR                   FRA  \n",
      "140           FR                   FRA  \n",
      "172           FR                   FRA  \n"
     ]
    }
   ],
   "source": [
    "# Extraire les données qui concerne la France\n",
    "france_medals = medals_df[medals_df['country_name'] == 'France']\n",
    "print(france_medals.head())"
   ]
  },
  {
   "cell_type": "code",
   "execution_count": 74,
   "id": "848dcba3",
   "metadata": {},
   "outputs": [
    {
     "name": "stdout",
     "output_type": "stream",
     "text": [
      "          game_slug  medal_type\n",
      "0  albertville-1992          10\n",
      "1    amsterdam-1928          21\n",
      "2      antwerp-1920          45\n",
      "3       athens-1896          11\n",
      "4       athens-2004          36\n"
     ]
    }
   ],
   "source": [
    "#Regroupement des données par la colonne \"game_slug\" et comptage du nombre de médailles\n",
    "medals_count = france_medals.groupby(['game_slug'])['medal_type'].count().reset_index()\n",
    "print(medals_count.head())"
   ]
  },
  {
   "cell_type": "code",
   "execution_count": 75,
   "id": "8aeb7851",
   "metadata": {},
   "outputs": [
    {
     "name": "stdout",
     "output_type": "stream",
     "text": [
      "          game_slug  medal_count\n",
      "0  albertville-1992           10\n",
      "1    amsterdam-1928           21\n",
      "2      antwerp-1920           45\n",
      "3       athens-1896           11\n",
      "4       athens-2004           36\n"
     ]
    }
   ],
   "source": [
    "# Renommage des deux colonnes\n",
    "medals_count.columns = ['game_slug', 'medal_count']\n",
    "print(medals_count.head())"
   ]
  },
  {
   "cell_type": "code",
   "execution_count": 76,
   "id": "452d77d6",
   "metadata": {},
   "outputs": [
    {
     "name": "stdout",
     "output_type": "stream",
     "text": [
      "   index         game_slug         game_end_date       game_start_date  \\\n",
      "0      0      beijing-2022  2022-02-20T12:00:00Z  2022-02-04T15:00:00Z   \n",
      "1      1        tokyo-2020  2021-08-08T14:00:00Z  2021-07-23T11:00:00Z   \n",
      "2      2  pyeongchang-2018  2018-02-25T08:00:00Z  2018-02-08T23:00:00Z   \n",
      "3      3          rio-2016  2016-08-21T21:00:00Z  2016-08-05T12:00:00Z   \n",
      "4      4        sochi-2014  2014-02-23T16:00:00Z  2014-02-07T04:00:00Z   \n",
      "\n",
      "        game_location         game_name game_season  game_year  medal_count  \n",
      "0               China      Beijing 2022      Winter       2022         15.0  \n",
      "1               Japan        Tokyo 2020      Summer       2020         37.0  \n",
      "2   Republic of Korea  PyeongChang 2018      Winter       2018         17.0  \n",
      "3              Brazil          Rio 2016      Summer       2016         45.0  \n",
      "4  Russian Federation        Sochi 2014      Winter       2014         15.0  \n"
     ]
    }
   ],
   "source": [
    "# Fusion avec des données de \"hosts_df\" et \"medals_count\" \n",
    "merged_df = hosts_df.merge(medals_count, on='game_slug', how='left')\n",
    "# Remplissage des valeurs manquantes avec 0\n",
    "merged_df['medal_count'].fillna(0, inplace=True)  \n",
    "print(merged_df.head())"
   ]
  },
  {
   "cell_type": "code",
   "execution_count": 85,
   "id": "225aef15",
   "metadata": {},
   "outputs": [
    {
     "name": "stdout",
     "output_type": "stream",
     "text": [
      "   index         game_slug         game_end_date       game_start_date  \\\n",
      "0      0      beijing-2022  2022-02-20T12:00:00Z  2022-02-04T15:00:00Z   \n",
      "1      1        tokyo-2020  2021-08-08T14:00:00Z  2021-07-23T11:00:00Z   \n",
      "2      2  pyeongchang-2018  2018-02-25T08:00:00Z  2018-02-08T23:00:00Z   \n",
      "3      3          rio-2016  2016-08-21T21:00:00Z  2016-08-05T12:00:00Z   \n",
      "4      4        sochi-2014  2014-02-23T16:00:00Z  2014-02-07T04:00:00Z   \n",
      "\n",
      "        game_location         game_name game_season  game_year  medal_count  \\\n",
      "0               China      Beijing 2022      Winter       2022         15.0   \n",
      "1               Japan        Tokyo 2020      Summer       2020         37.0   \n",
      "2   Republic of Korea  PyeongChang 2018      Winter       2018         17.0   \n",
      "3              Brazil          Rio 2016      Summer       2016         45.0   \n",
      "4  Russian Federation        Sochi 2014      Winter       2014         15.0   \n",
      "\n",
      "   is_host  year  season  \n",
      "0        0  2022       0  \n",
      "1        0  2020       1  \n",
      "2        0  2018       0  \n",
      "3        0  2016       1  \n",
      "4        0  2014       0  \n"
     ]
    }
   ],
   "source": [
    "#Création de la colonne 'is_host'. Si game_location = 'France' ALORS 1 SINON 0.\n",
    "merged_df['is_host'] = merged_df['game_location'].apply(lambda x: 1 if 'France' in x else 0)\n",
    "#Création de la colonne \"year\" avec les données de la colonne \"game_year\"\n",
    "merged_df['year'] = merged_df['game_year']\n",
    "#Création de la colonne 'season'. Si game_season = 'Summer' ALORS 1 SINON 0.\n",
    "merged_df['season'] = merged_df['game_season'].apply(lambda x: 1 if x == 'Summer' else 0)\n",
    "print(merged_df.head())\n",
    "\n",
    "# Sélection des caractéristiques\n",
    "X = merged_df[['year', 'season', 'is_host']]\n",
    "# Variable cible (à prédire) 'medal_count' \n",
    "y = merged_df['medal_count']\n",
    "\n",
    "# Division des données en ensembles d'entraînement et de test\n",
    "X_train, X_test, y_train, y_test = train_test_split(X, y, test_size=0.2, random_state=42)"
   ]
  },
  {
   "cell_type": "code",
   "execution_count": 78,
   "id": "3018b375",
   "metadata": {},
   "outputs": [
    {
     "data": {
      "text/html": [
       "<style>#sk-container-id-10 {color: black;}#sk-container-id-10 pre{padding: 0;}#sk-container-id-10 div.sk-toggleable {background-color: white;}#sk-container-id-10 label.sk-toggleable__label {cursor: pointer;display: block;width: 100%;margin-bottom: 0;padding: 0.3em;box-sizing: border-box;text-align: center;}#sk-container-id-10 label.sk-toggleable__label-arrow:before {content: \"▸\";float: left;margin-right: 0.25em;color: #696969;}#sk-container-id-10 label.sk-toggleable__label-arrow:hover:before {color: black;}#sk-container-id-10 div.sk-estimator:hover label.sk-toggleable__label-arrow:before {color: black;}#sk-container-id-10 div.sk-toggleable__content {max-height: 0;max-width: 0;overflow: hidden;text-align: left;background-color: #f0f8ff;}#sk-container-id-10 div.sk-toggleable__content pre {margin: 0.2em;color: black;border-radius: 0.25em;background-color: #f0f8ff;}#sk-container-id-10 input.sk-toggleable__control:checked~div.sk-toggleable__content {max-height: 200px;max-width: 100%;overflow: auto;}#sk-container-id-10 input.sk-toggleable__control:checked~label.sk-toggleable__label-arrow:before {content: \"▾\";}#sk-container-id-10 div.sk-estimator input.sk-toggleable__control:checked~label.sk-toggleable__label {background-color: #d4ebff;}#sk-container-id-10 div.sk-label input.sk-toggleable__control:checked~label.sk-toggleable__label {background-color: #d4ebff;}#sk-container-id-10 input.sk-hidden--visually {border: 0;clip: rect(1px 1px 1px 1px);clip: rect(1px, 1px, 1px, 1px);height: 1px;margin: -1px;overflow: hidden;padding: 0;position: absolute;width: 1px;}#sk-container-id-10 div.sk-estimator {font-family: monospace;background-color: #f0f8ff;border: 1px dotted black;border-radius: 0.25em;box-sizing: border-box;margin-bottom: 0.5em;}#sk-container-id-10 div.sk-estimator:hover {background-color: #d4ebff;}#sk-container-id-10 div.sk-parallel-item::after {content: \"\";width: 100%;border-bottom: 1px solid gray;flex-grow: 1;}#sk-container-id-10 div.sk-label:hover label.sk-toggleable__label {background-color: #d4ebff;}#sk-container-id-10 div.sk-serial::before {content: \"\";position: absolute;border-left: 1px solid gray;box-sizing: border-box;top: 0;bottom: 0;left: 50%;z-index: 0;}#sk-container-id-10 div.sk-serial {display: flex;flex-direction: column;align-items: center;background-color: white;padding-right: 0.2em;padding-left: 0.2em;position: relative;}#sk-container-id-10 div.sk-item {position: relative;z-index: 1;}#sk-container-id-10 div.sk-parallel {display: flex;align-items: stretch;justify-content: center;background-color: white;position: relative;}#sk-container-id-10 div.sk-item::before, #sk-container-id-10 div.sk-parallel-item::before {content: \"\";position: absolute;border-left: 1px solid gray;box-sizing: border-box;top: 0;bottom: 0;left: 50%;z-index: -1;}#sk-container-id-10 div.sk-parallel-item {display: flex;flex-direction: column;z-index: 1;position: relative;background-color: white;}#sk-container-id-10 div.sk-parallel-item:first-child::after {align-self: flex-end;width: 50%;}#sk-container-id-10 div.sk-parallel-item:last-child::after {align-self: flex-start;width: 50%;}#sk-container-id-10 div.sk-parallel-item:only-child::after {width: 0;}#sk-container-id-10 div.sk-dashed-wrapped {border: 1px dashed gray;margin: 0 0.4em 0.5em 0.4em;box-sizing: border-box;padding-bottom: 0.4em;background-color: white;}#sk-container-id-10 div.sk-label label {font-family: monospace;font-weight: bold;display: inline-block;line-height: 1.2em;}#sk-container-id-10 div.sk-label-container {text-align: center;}#sk-container-id-10 div.sk-container {/* jupyter's `normalize.less` sets `[hidden] { display: none; }` but bootstrap.min.css set `[hidden] { display: none !important; }` so we also need the `!important` here to be able to override the default hidden behavior on the sphinx rendered scikit-learn.org. See: https://github.com/scikit-learn/scikit-learn/issues/21755 */display: inline-block !important;position: relative;}#sk-container-id-10 div.sk-text-repr-fallback {display: none;}</style><div id=\"sk-container-id-10\" class=\"sk-top-container\"><div class=\"sk-text-repr-fallback\"><pre>LinearRegression()</pre><b>In a Jupyter environment, please rerun this cell to show the HTML representation or trust the notebook. <br />On GitHub, the HTML representation is unable to render, please try loading this page with nbviewer.org.</b></div><div class=\"sk-container\" hidden><div class=\"sk-item\"><div class=\"sk-estimator sk-toggleable\"><input class=\"sk-toggleable__control sk-hidden--visually\" id=\"sk-estimator-id-10\" type=\"checkbox\" checked><label for=\"sk-estimator-id-10\" class=\"sk-toggleable__label sk-toggleable__label-arrow\">LinearRegression</label><div class=\"sk-toggleable__content\"><pre>LinearRegression()</pre></div></div></div></div></div>"
      ],
      "text/plain": [
       "LinearRegression()"
      ]
     },
     "execution_count": 78,
     "metadata": {},
     "output_type": "execute_result"
    }
   ],
   "source": [
    "# Modèle de régression linéaire\n",
    "linear_model = LinearRegression()\n",
    "linear_model.fit(X_train, y_train)"
   ]
  },
  {
   "cell_type": "code",
   "execution_count": 79,
   "id": "06ee3966",
   "metadata": {},
   "outputs": [
    {
     "name": "stdout",
     "output_type": "stream",
     "text": [
      "1/ Modèle de régression linéaire:\n",
      "MSE(Mean Squared Error): 131.90475569323505\n",
      "Nombre de médailles prédites pour la France aux JO 2024 : 56.624104659435716\n"
     ]
    }
   ],
   "source": [
    "# Prédiction et évaluation pour le modèle de régression linéaire\n",
    "linear_y_pred = linear_model.predict(X_test)\n",
    "linear_mse = mean_squared_error(y_test, linear_y_pred)\n",
    "print(f'1/ Modèle de régression linéaire:')\n",
    "print(f'MSE(Mean Squared Error): {linear_mse}')\n",
    "\n",
    "# Prédiction nombre de médailles pour La France aux JO 2024 avec le modèle de Régression Linéaire\n",
    "linear_prediction_2024 = linear_model.predict([[2024, 1, 1]])\n",
    "print(f'Nombre de médailles prédites pour la France aux JO 2024 : {linear_prediction_2024[0]}')"
   ]
  },
  {
   "cell_type": "code",
   "execution_count": 80,
   "id": "d04dec83",
   "metadata": {},
   "outputs": [
    {
     "data": {
      "text/html": [
       "<style>#sk-container-id-11 {color: black;}#sk-container-id-11 pre{padding: 0;}#sk-container-id-11 div.sk-toggleable {background-color: white;}#sk-container-id-11 label.sk-toggleable__label {cursor: pointer;display: block;width: 100%;margin-bottom: 0;padding: 0.3em;box-sizing: border-box;text-align: center;}#sk-container-id-11 label.sk-toggleable__label-arrow:before {content: \"▸\";float: left;margin-right: 0.25em;color: #696969;}#sk-container-id-11 label.sk-toggleable__label-arrow:hover:before {color: black;}#sk-container-id-11 div.sk-estimator:hover label.sk-toggleable__label-arrow:before {color: black;}#sk-container-id-11 div.sk-toggleable__content {max-height: 0;max-width: 0;overflow: hidden;text-align: left;background-color: #f0f8ff;}#sk-container-id-11 div.sk-toggleable__content pre {margin: 0.2em;color: black;border-radius: 0.25em;background-color: #f0f8ff;}#sk-container-id-11 input.sk-toggleable__control:checked~div.sk-toggleable__content {max-height: 200px;max-width: 100%;overflow: auto;}#sk-container-id-11 input.sk-toggleable__control:checked~label.sk-toggleable__label-arrow:before {content: \"▾\";}#sk-container-id-11 div.sk-estimator input.sk-toggleable__control:checked~label.sk-toggleable__label {background-color: #d4ebff;}#sk-container-id-11 div.sk-label input.sk-toggleable__control:checked~label.sk-toggleable__label {background-color: #d4ebff;}#sk-container-id-11 input.sk-hidden--visually {border: 0;clip: rect(1px 1px 1px 1px);clip: rect(1px, 1px, 1px, 1px);height: 1px;margin: -1px;overflow: hidden;padding: 0;position: absolute;width: 1px;}#sk-container-id-11 div.sk-estimator {font-family: monospace;background-color: #f0f8ff;border: 1px dotted black;border-radius: 0.25em;box-sizing: border-box;margin-bottom: 0.5em;}#sk-container-id-11 div.sk-estimator:hover {background-color: #d4ebff;}#sk-container-id-11 div.sk-parallel-item::after {content: \"\";width: 100%;border-bottom: 1px solid gray;flex-grow: 1;}#sk-container-id-11 div.sk-label:hover label.sk-toggleable__label {background-color: #d4ebff;}#sk-container-id-11 div.sk-serial::before {content: \"\";position: absolute;border-left: 1px solid gray;box-sizing: border-box;top: 0;bottom: 0;left: 50%;z-index: 0;}#sk-container-id-11 div.sk-serial {display: flex;flex-direction: column;align-items: center;background-color: white;padding-right: 0.2em;padding-left: 0.2em;position: relative;}#sk-container-id-11 div.sk-item {position: relative;z-index: 1;}#sk-container-id-11 div.sk-parallel {display: flex;align-items: stretch;justify-content: center;background-color: white;position: relative;}#sk-container-id-11 div.sk-item::before, #sk-container-id-11 div.sk-parallel-item::before {content: \"\";position: absolute;border-left: 1px solid gray;box-sizing: border-box;top: 0;bottom: 0;left: 50%;z-index: -1;}#sk-container-id-11 div.sk-parallel-item {display: flex;flex-direction: column;z-index: 1;position: relative;background-color: white;}#sk-container-id-11 div.sk-parallel-item:first-child::after {align-self: flex-end;width: 50%;}#sk-container-id-11 div.sk-parallel-item:last-child::after {align-self: flex-start;width: 50%;}#sk-container-id-11 div.sk-parallel-item:only-child::after {width: 0;}#sk-container-id-11 div.sk-dashed-wrapped {border: 1px dashed gray;margin: 0 0.4em 0.5em 0.4em;box-sizing: border-box;padding-bottom: 0.4em;background-color: white;}#sk-container-id-11 div.sk-label label {font-family: monospace;font-weight: bold;display: inline-block;line-height: 1.2em;}#sk-container-id-11 div.sk-label-container {text-align: center;}#sk-container-id-11 div.sk-container {/* jupyter's `normalize.less` sets `[hidden] { display: none; }` but bootstrap.min.css set `[hidden] { display: none !important; }` so we also need the `!important` here to be able to override the default hidden behavior on the sphinx rendered scikit-learn.org. See: https://github.com/scikit-learn/scikit-learn/issues/21755 */display: inline-block !important;position: relative;}#sk-container-id-11 div.sk-text-repr-fallback {display: none;}</style><div id=\"sk-container-id-11\" class=\"sk-top-container\"><div class=\"sk-text-repr-fallback\"><pre>RandomForestRegressor(random_state=42)</pre><b>In a Jupyter environment, please rerun this cell to show the HTML representation or trust the notebook. <br />On GitHub, the HTML representation is unable to render, please try loading this page with nbviewer.org.</b></div><div class=\"sk-container\" hidden><div class=\"sk-item\"><div class=\"sk-estimator sk-toggleable\"><input class=\"sk-toggleable__control sk-hidden--visually\" id=\"sk-estimator-id-11\" type=\"checkbox\" checked><label for=\"sk-estimator-id-11\" class=\"sk-toggleable__label sk-toggleable__label-arrow\">RandomForestRegressor</label><div class=\"sk-toggleable__content\"><pre>RandomForestRegressor(random_state=42)</pre></div></div></div></div></div>"
      ],
      "text/plain": [
       "RandomForestRegressor(random_state=42)"
      ]
     },
     "execution_count": 80,
     "metadata": {},
     "output_type": "execute_result"
    }
   ],
   "source": [
    "# Modèle RandomForest\n",
    "rf_model = RandomForestRegressor(n_estimators=100, random_state=42)\n",
    "rf_model.fit(X_train, y_train)"
   ]
  },
  {
   "cell_type": "code",
   "execution_count": 81,
   "id": "fef5b4c0",
   "metadata": {},
   "outputs": [
    {
     "name": "stdout",
     "output_type": "stream",
     "text": [
      "2/ Modèle RandomForest:\n",
      "MSE(Mean Squared Error): 285.9632272727273\n",
      "Nombre de médailles prédites pour la France aux JO 2024: 41.13\n"
     ]
    }
   ],
   "source": [
    "# Prédiction et évaluation pour le modèle RandomForest\n",
    "rf_y_pred = rf_model.predict(X_test)\n",
    "rf_mse = mean_squared_error(y_test, rf_y_pred)\n",
    "print(f'2/ Modèle RandomForest:')\n",
    "print(f'MSE(Mean Squared Error): {rf_mse}')\n",
    "\n",
    "# Prédiction nombre de médailles pour La France aux JO 2024 avec le modèle RandomForest\n",
    "rf_prediction_2024 = rf_model.predict([[2024, 1, 1]])\n",
    "print(f'Nombre de médailles prédites pour la France aux JO 2024: {rf_prediction_2024[0]}')"
   ]
  },
  {
   "cell_type": "code",
   "execution_count": 83,
   "id": "58333e63",
   "metadata": {},
   "outputs": [
    {
     "data": {
      "text/html": [
       "<style>#sk-container-id-13 {color: black;}#sk-container-id-13 pre{padding: 0;}#sk-container-id-13 div.sk-toggleable {background-color: white;}#sk-container-id-13 label.sk-toggleable__label {cursor: pointer;display: block;width: 100%;margin-bottom: 0;padding: 0.3em;box-sizing: border-box;text-align: center;}#sk-container-id-13 label.sk-toggleable__label-arrow:before {content: \"▸\";float: left;margin-right: 0.25em;color: #696969;}#sk-container-id-13 label.sk-toggleable__label-arrow:hover:before {color: black;}#sk-container-id-13 div.sk-estimator:hover label.sk-toggleable__label-arrow:before {color: black;}#sk-container-id-13 div.sk-toggleable__content {max-height: 0;max-width: 0;overflow: hidden;text-align: left;background-color: #f0f8ff;}#sk-container-id-13 div.sk-toggleable__content pre {margin: 0.2em;color: black;border-radius: 0.25em;background-color: #f0f8ff;}#sk-container-id-13 input.sk-toggleable__control:checked~div.sk-toggleable__content {max-height: 200px;max-width: 100%;overflow: auto;}#sk-container-id-13 input.sk-toggleable__control:checked~label.sk-toggleable__label-arrow:before {content: \"▾\";}#sk-container-id-13 div.sk-estimator input.sk-toggleable__control:checked~label.sk-toggleable__label {background-color: #d4ebff;}#sk-container-id-13 div.sk-label input.sk-toggleable__control:checked~label.sk-toggleable__label {background-color: #d4ebff;}#sk-container-id-13 input.sk-hidden--visually {border: 0;clip: rect(1px 1px 1px 1px);clip: rect(1px, 1px, 1px, 1px);height: 1px;margin: -1px;overflow: hidden;padding: 0;position: absolute;width: 1px;}#sk-container-id-13 div.sk-estimator {font-family: monospace;background-color: #f0f8ff;border: 1px dotted black;border-radius: 0.25em;box-sizing: border-box;margin-bottom: 0.5em;}#sk-container-id-13 div.sk-estimator:hover {background-color: #d4ebff;}#sk-container-id-13 div.sk-parallel-item::after {content: \"\";width: 100%;border-bottom: 1px solid gray;flex-grow: 1;}#sk-container-id-13 div.sk-label:hover label.sk-toggleable__label {background-color: #d4ebff;}#sk-container-id-13 div.sk-serial::before {content: \"\";position: absolute;border-left: 1px solid gray;box-sizing: border-box;top: 0;bottom: 0;left: 50%;z-index: 0;}#sk-container-id-13 div.sk-serial {display: flex;flex-direction: column;align-items: center;background-color: white;padding-right: 0.2em;padding-left: 0.2em;position: relative;}#sk-container-id-13 div.sk-item {position: relative;z-index: 1;}#sk-container-id-13 div.sk-parallel {display: flex;align-items: stretch;justify-content: center;background-color: white;position: relative;}#sk-container-id-13 div.sk-item::before, #sk-container-id-13 div.sk-parallel-item::before {content: \"\";position: absolute;border-left: 1px solid gray;box-sizing: border-box;top: 0;bottom: 0;left: 50%;z-index: -1;}#sk-container-id-13 div.sk-parallel-item {display: flex;flex-direction: column;z-index: 1;position: relative;background-color: white;}#sk-container-id-13 div.sk-parallel-item:first-child::after {align-self: flex-end;width: 50%;}#sk-container-id-13 div.sk-parallel-item:last-child::after {align-self: flex-start;width: 50%;}#sk-container-id-13 div.sk-parallel-item:only-child::after {width: 0;}#sk-container-id-13 div.sk-dashed-wrapped {border: 1px dashed gray;margin: 0 0.4em 0.5em 0.4em;box-sizing: border-box;padding-bottom: 0.4em;background-color: white;}#sk-container-id-13 div.sk-label label {font-family: monospace;font-weight: bold;display: inline-block;line-height: 1.2em;}#sk-container-id-13 div.sk-label-container {text-align: center;}#sk-container-id-13 div.sk-container {/* jupyter's `normalize.less` sets `[hidden] { display: none; }` but bootstrap.min.css set `[hidden] { display: none !important; }` so we also need the `!important` here to be able to override the default hidden behavior on the sphinx rendered scikit-learn.org. See: https://github.com/scikit-learn/scikit-learn/issues/21755 */display: inline-block !important;position: relative;}#sk-container-id-13 div.sk-text-repr-fallback {display: none;}</style><div id=\"sk-container-id-13\" class=\"sk-top-container\"><div class=\"sk-text-repr-fallback\"><pre>GradientBoostingRegressor(random_state=42)</pre><b>In a Jupyter environment, please rerun this cell to show the HTML representation or trust the notebook. <br />On GitHub, the HTML representation is unable to render, please try loading this page with nbviewer.org.</b></div><div class=\"sk-container\" hidden><div class=\"sk-item\"><div class=\"sk-estimator sk-toggleable\"><input class=\"sk-toggleable__control sk-hidden--visually\" id=\"sk-estimator-id-13\" type=\"checkbox\" checked><label for=\"sk-estimator-id-13\" class=\"sk-toggleable__label sk-toggleable__label-arrow\">GradientBoostingRegressor</label><div class=\"sk-toggleable__content\"><pre>GradientBoostingRegressor(random_state=42)</pre></div></div></div></div></div>"
      ],
      "text/plain": [
       "GradientBoostingRegressor(random_state=42)"
      ]
     },
     "execution_count": 83,
     "metadata": {},
     "output_type": "execute_result"
    }
   ],
   "source": [
    "from sklearn.ensemble import GradientBoostingRegressor\n",
    "\n",
    "# Modèle Gradient Boosting Regressor\n",
    "gb_model = GradientBoostingRegressor(n_estimators=100, learning_rate=0.1, random_state=42)\n",
    "gb_model.fit(X_train, y_train)"
   ]
  },
  {
   "cell_type": "code",
   "execution_count": 84,
   "id": "5ed961f1",
   "metadata": {},
   "outputs": [
    {
     "name": "stdout",
     "output_type": "stream",
     "text": [
      "3/ Modèle Gradient Boosting Regressor:\n",
      "MSE(Mean Squared Error: 162.43368023720302\n",
      "Nombre de médailles prédites pour la France aux JO 2024 : 41.02715040543047\n"
     ]
    }
   ],
   "source": [
    "# Prédiction et évaluation pour le modèle Gradient Boosting Regressor\n",
    "gb_y_pred = gb_model.predict(X_test)\n",
    "gb_mse = mean_squared_error(y_test, gb_y_pred)\n",
    "print(f'3/ Modèle Gradient Boosting Regressor:')\n",
    "print(f'MSE(Mean Squared Error: {gb_mse}')\n",
    "\n",
    "# Prédiction nombre de médailles pour La France aux JO 2024 avec le modèle Gradient Boosting Regressor\n",
    "gb_prediction_2024 = gb_model.predict([[2024, 1, 1]])\n",
    "print(f'Nombre de médailles prédites pour la France aux JO 2024 : {gb_prediction_2024[0]}')"
   ]
  },
  {
   "cell_type": "code",
   "execution_count": null,
   "id": "646a3729",
   "metadata": {},
   "outputs": [],
   "source": [
    "#Pour test\n",
    "\n",
    "import matplotlib.pyplot as plt\n",
    "\n",
    "results = merged_df[['year', 'medal_count']].drop_duplicates().sort_values(by='year').copy()\n",
    "results = pd.concat([results, pd.DataFrame({'year': [2024], 'medal_count': [None]})], ignore_index=True)\n",
    "results['Linear_Regression'] = results.apply(lambda row: linear_model.predict([[row['year'], 1, 1]])[0] if row['year'] == 2024 else np.nan, axis=1)\n",
    "results['Random_Forest'] = results.apply(lambda row: rf_model.predict([[row['year'], 1, 1]])[0] if row['year'] == 2024 else np.nan, axis=1)\n",
    "results['Gradient_Boosting'] = results.apply(lambda row: gb_model.predict([[row['year'], 1, 1]])[0] if row['year'] == 2024 else np.nan, axis=1)\n",
    "\n",
    "plt.figure(figsize=(14, 7))\n",
    "plt.plot(results['year'], results['medal_count'], marker='o', label='Médailles Réelles')\n",
    "plt.plot(results['year'], results['Linear_Regression'], marker='x', linestyle='--', label='Prédiction Régression Linéaire')\n",
    "plt.plot(results['year'], results['Random_Forest'], marker='x', linestyle='--', label='Prédiction RandomForest')\n",
    "plt.plot(results['year'], results['Gradient_Boosting'], marker='x', linestyle='--', label='Prédiction Gradient Boosting')\n",
    "plt.xlabel('Année')\n",
    "plt.ylabel('Nombre de Médailles')\n",
    "plt.title('Nombre de Médailles Gagnées par la France aux JO')\n",
    "\n",
    "\n",
    "plt.legend()\n",
    "plt.grid(True)\n",
    "plt.show()"
   ]
  },
  {
   "cell_type": "code",
   "execution_count": null,
   "id": "38e0e346",
   "metadata": {},
   "outputs": [],
   "source": [
    "results.to_json('results.json', orient='records')"
   ]
  }
 ],
 "metadata": {
  "kernelspec": {
   "display_name": "Python 3 (ipykernel)",
   "language": "python",
   "name": "python3"
  },
  "language_info": {
   "codemirror_mode": {
    "name": "ipython",
    "version": 3
   },
   "file_extension": ".py",
   "mimetype": "text/x-python",
   "name": "python",
   "nbconvert_exporter": "python",
   "pygments_lexer": "ipython3",
   "version": "3.11.5"
  }
 },
 "nbformat": 4,
 "nbformat_minor": 5
}

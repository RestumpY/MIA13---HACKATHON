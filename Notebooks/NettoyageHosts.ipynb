{
 "cells": [
  {
   "cell_type": "code",
   "execution_count": 1,
   "id": "9cca058e",
   "metadata": {},
   "outputs": [],
   "source": [
    "# Import de la bibliothèque\n",
    "import pandas as pd"
   ]
  },
  {
   "cell_type": "code",
   "execution_count": 36,
   "id": "f8796d27",
   "metadata": {},
   "outputs": [],
   "source": [
    "#Chargement des données à partir du fichier csv\n",
    "df = pd.read_csv('olympic_hosts.csv')"
   ]
  },
  {
   "cell_type": "code",
   "execution_count": 37,
   "id": "540bebd6",
   "metadata": {},
   "outputs": [
    {
     "name": "stdout",
     "output_type": "stream",
     "text": [
      "   index         game_slug         game_end_date       game_start_date  \\\n",
      "0      0      beijing-2022  2022-02-20T12:00:00Z  2022-02-04T15:00:00Z   \n",
      "1      1        tokyo-2020  2021-08-08T14:00:00Z  2021-07-23T11:00:00Z   \n",
      "2      2  pyeongchang-2018  2018-02-25T08:00:00Z  2018-02-08T23:00:00Z   \n",
      "3      3          rio-2016  2016-08-21T21:00:00Z  2016-08-05T12:00:00Z   \n",
      "4      4        sochi-2014  2014-02-23T16:00:00Z  2014-02-07T04:00:00Z   \n",
      "\n",
      "        game_location         game_name game_season  game_year  \n",
      "0               China      Beijing 2022      Winter       2022  \n",
      "1               Japan        Tokyo 2020      Summer       2020  \n",
      "2   Republic of Korea  PyeongChang 2018      Winter       2018  \n",
      "3              Brazil          Rio 2016      Summer       2016  \n",
      "4  Russian Federation        Sochi 2014      Winter       2014  \n"
     ]
    }
   ],
   "source": [
    "#Visualisation des premières lignes\n",
    "print(df.head())"
   ]
  },
  {
   "cell_type": "code",
   "execution_count": 38,
   "id": "11eec29c",
   "metadata": {},
   "outputs": [
    {
     "data": {
      "text/plain": [
       "index              0\n",
       "game_slug          0\n",
       "game_end_date      0\n",
       "game_start_date    0\n",
       "game_location      0\n",
       "game_name          0\n",
       "game_season        0\n",
       "game_year          0\n",
       "dtype: int64"
      ]
     },
     "execution_count": 38,
     "metadata": {},
     "output_type": "execute_result"
    }
   ],
   "source": [
    "#Vérifier s'il y a des valeurs nulles\n",
    "df.isnull().sum()"
   ]
  },
  {
   "cell_type": "code",
   "execution_count": 39,
   "id": "9eb955e1",
   "metadata": {},
   "outputs": [
    {
     "name": "stdout",
     "output_type": "stream",
     "text": [
      "   index         game_slug         game_end_date       game_start_date  \\\n",
      "0      0      beijing-2022  2022-02-20T12:00:00Z  2022-02-04T15:00:00Z   \n",
      "1      1        tokyo-2020  2021-08-08T14:00:00Z  2021-07-23T11:00:00Z   \n",
      "2      2  pyeongchang-2018  2018-02-25T08:00:00Z  2018-02-08T23:00:00Z   \n",
      "3      3          rio-2016  2016-08-21T21:00:00Z  2016-08-05T12:00:00Z   \n",
      "4      4        sochi-2014  2014-02-23T16:00:00Z  2014-02-07T04:00:00Z   \n",
      "\n",
      "        game_location         game_name game_season  game_year  \n",
      "0               China      Beijing 2022      Winter       2022  \n",
      "1               Japan        Tokyo 2020      Summer       2020  \n",
      "2   Republic of Korea  PyeongChang 2018      Winter       2018  \n",
      "3              Brazil          Rio 2016      Summer       2016  \n",
      "4  Russian Federation        Sochi 2014      Winter       2014  \n"
     ]
    }
   ],
   "source": [
    "print(df.head())"
   ]
  },
  {
   "cell_type": "code",
   "execution_count": 40,
   "id": "9f78f886",
   "metadata": {},
   "outputs": [
    {
     "name": "stdout",
     "output_type": "stream",
     "text": [
      "index               int64\n",
      "game_slug          object\n",
      "game_end_date      object\n",
      "game_start_date    object\n",
      "game_location      object\n",
      "game_name          object\n",
      "game_season        object\n",
      "game_year           int64\n",
      "dtype: object\n"
     ]
    }
   ],
   "source": [
    "print(df.dtypes)"
   ]
  },
  {
   "cell_type": "code",
   "execution_count": 41,
   "id": "1b01223d",
   "metadata": {},
   "outputs": [
    {
     "name": "stdout",
     "output_type": "stream",
     "text": [
      "   index         game_slug             game_end_date  \\\n",
      "0      0      beijing-2022 2022-02-20 12:00:00+00:00   \n",
      "1      1        tokyo-2020 2021-08-08 14:00:00+00:00   \n",
      "2      2  pyeongchang-2018 2018-02-25 08:00:00+00:00   \n",
      "3      3          rio-2016 2016-08-21 21:00:00+00:00   \n",
      "4      4        sochi-2014 2014-02-23 16:00:00+00:00   \n",
      "\n",
      "            game_start_date       game_location         game_name game_season  \\\n",
      "0 2022-02-04 15:00:00+00:00               China      Beijing 2022      Winter   \n",
      "1 2021-07-23 11:00:00+00:00               Japan        Tokyo 2020      Summer   \n",
      "2 2018-02-08 23:00:00+00:00   Republic of Korea  PyeongChang 2018      Winter   \n",
      "3 2016-08-05 12:00:00+00:00              Brazil          Rio 2016      Summer   \n",
      "4 2014-02-07 04:00:00+00:00  Russian Federation        Sochi 2014      Winter   \n",
      "\n",
      "   game_year  \n",
      "0       2022  \n",
      "1       2020  \n",
      "2       2018  \n",
      "3       2016  \n",
      "4       2014  \n"
     ]
    }
   ],
   "source": [
    "# Conversion des colonnes 'game_start_date' et 'game_end_date' en datetime\n",
    "df['game_end_date'] = pd.to_datetime(df['game_end_date'])\n",
    "df['game_start_date'] = pd.to_datetime(df['game_start_date'])\n",
    "print(df.head())"
   ]
  },
  {
   "cell_type": "code",
   "execution_count": 42,
   "id": "c92912f2",
   "metadata": {},
   "outputs": [
    {
     "name": "stdout",
     "output_type": "stream",
     "text": [
      "index                            int64\n",
      "game_slug                       object\n",
      "game_end_date      datetime64[ns, UTC]\n",
      "game_start_date    datetime64[ns, UTC]\n",
      "game_location                   object\n",
      "game_name                       object\n",
      "game_season                     object\n",
      "game_year                        int64\n",
      "dtype: object\n"
     ]
    }
   ],
   "source": [
    "print(df.dtypes)"
   ]
  },
  {
   "cell_type": "code",
   "execution_count": 43,
   "id": "a216807b",
   "metadata": {},
   "outputs": [
    {
     "name": "stdout",
     "output_type": "stream",
     "text": [
      "0\n"
     ]
    }
   ],
   "source": [
    "#Vérifier s'il y a des doublons\n",
    "print(df.duplicated().sum())"
   ]
  },
  {
   "cell_type": "code",
   "execution_count": 50,
   "id": "bd8d3dff",
   "metadata": {},
   "outputs": [
    {
     "name": "stdout",
     "output_type": "stream",
     "text": [
      "    index                    game_slug             game_end_date  \\\n",
      "0       0                 beijing-2022 2022-02-20 12:00:00+00:00   \n",
      "1       1                   tokyo-2020 2021-08-08 14:00:00+00:00   \n",
      "2       2             pyeongchang-2018 2018-02-25 08:00:00+00:00   \n",
      "3       3                     rio-2016 2016-08-21 21:00:00+00:00   \n",
      "4       4                   sochi-2014 2014-02-23 16:00:00+00:00   \n",
      "5       5                  london-2012 2012-08-12 19:00:00+00:00   \n",
      "6       6               vancouver-2010 2010-02-28 04:00:00+00:00   \n",
      "7       7                 beijing-2008 2008-08-24 12:00:00+00:00   \n",
      "8       8                   turin-2006 2006-02-26 19:00:00+00:00   \n",
      "9       9                  athens-2004 2004-08-29 18:00:00+00:00   \n",
      "10     10          salt-lake-city-2002 2002-02-24 08:00:00+00:00   \n",
      "11     11                  sydney-2000 2000-10-01 09:00:00+00:00   \n",
      "12     12                  nagano-1998 1998-02-22 11:00:00+00:00   \n",
      "13     13                 atlanta-1996 1996-08-05 21:00:00+00:00   \n",
      "14     14             lillehammer-1994 1994-02-27 19:00:00+00:00   \n",
      "15     15               barcelona-1992 1992-08-09 18:00:00+00:00   \n",
      "16     16             albertville-1992 1992-02-23 19:00:00+00:00   \n",
      "17     17                   seoul-1988 1988-10-02 10:00:00+00:00   \n",
      "18     18                 calgary-1988 1988-02-28 03:00:00+00:00   \n",
      "19     19             los-angeles-1984 1984-08-12 19:00:00+00:00   \n",
      "20     20                sarajevo-1984 1984-02-19 19:00:00+00:00   \n",
      "21     21                  moscow-1980 1980-08-03 18:00:00+00:00   \n",
      "22     22             lake-placid-1980 1980-02-24 01:00:00+00:00   \n",
      "23     23                montreal-1976 1976-07-31 22:00:00+00:00   \n",
      "24     24               innsbruck-1976 1976-02-15 19:00:00+00:00   \n",
      "25     25                  munich-1972 1972-09-11 19:00:00+00:00   \n",
      "26     26                 sapporo-1972 1972-02-13 11:00:00+00:00   \n",
      "27     27             mexico-city-1968 1968-10-28 04:00:00+00:00   \n",
      "28     28                grenoble-1968 1968-02-18 19:00:00+00:00   \n",
      "29     29                   tokyo-1964 1964-10-24 11:00:00+00:00   \n",
      "30     30               innsbruck-1964 1964-02-09 19:00:00+00:00   \n",
      "31     31                    rome-1960 1960-09-11 19:00:00+00:00   \n",
      "32     32            squaw-valley-1960 1960-02-28 04:00:00+00:00   \n",
      "33     33               melbourne-1956 1956-12-08 10:00:00+00:00   \n",
      "34     34       cortina-d-ampezzo-1956 1956-02-05 19:00:00+00:00   \n",
      "35     35                helsinki-1952 1952-08-03 07:00:00+00:00   \n",
      "36     36                    oslo-1952 1952-02-25 19:00:00+00:00   \n",
      "37     37                  london-1948 1948-08-14 19:00:00+00:00   \n",
      "38     38               st-moritz-1948 1948-02-08 19:00:00+00:00   \n",
      "39     39                  berlin-1936 1936-08-16 19:00:00+00:00   \n",
      "40     40  garmisch-partenkirchen-1936 1936-02-16 20:00:00+00:00   \n",
      "41     41             los-angeles-1932 1932-08-14 19:00:00+00:00   \n",
      "42     42             lake-placid-1932 1932-02-15 18:00:00+00:00   \n",
      "43     43               amsterdam-1928 1928-08-12 19:00:00+00:00   \n",
      "44     44               st-moritz-1928 1928-02-19 08:00:00+00:00   \n",
      "45     45                   paris-1924 1924-07-27 19:00:00+00:00   \n",
      "46     46                chamonix-1924 1924-02-05 20:00:00+00:00   \n",
      "47     47                 antwerp-1920 1920-09-12 19:00:00+00:00   \n",
      "48     48               stockholm-1912 1912-07-27 20:00:00+00:00   \n",
      "49     49                  london-1908 1908-10-31 20:09:00+00:00   \n",
      "50     50                st-louis-1904 1904-11-24 02:00:00+00:00   \n",
      "51     51                   paris-1900 1900-10-28 19:50:39+00:00   \n",
      "52     52                  athens-1896 1896-04-15 11:39:39+00:00   \n",
      "\n",
      "             game_start_date                game_location  \\\n",
      "0  2022-02-04 15:00:00+00:00                        China   \n",
      "1  2021-07-23 11:00:00+00:00                        Japan   \n",
      "2  2018-02-08 23:00:00+00:00            Republic of Korea   \n",
      "3  2016-08-05 12:00:00+00:00                       Brazil   \n",
      "4  2014-02-07 04:00:00+00:00           Russian Federation   \n",
      "5  2012-07-27 07:00:00+00:00                Great Britain   \n",
      "6  2010-02-12 16:00:00+00:00                       Canada   \n",
      "7  2008-08-08 00:00:00+00:00                        China   \n",
      "8  2006-02-10 07:00:00+00:00                        Italy   \n",
      "9  2004-08-13 06:00:00+00:00                       Greece   \n",
      "10 2002-02-08 15:00:00+00:00                United States   \n",
      "11 2000-09-15 01:00:00+00:00                    Australia   \n",
      "12 1998-02-06 23:00:00+00:00                        Japan   \n",
      "13 1996-07-19 12:00:00+00:00                United States   \n",
      "14 1994-02-12 07:00:00+00:00                       Norway   \n",
      "15 1992-07-25 06:00:00+00:00                        Spain   \n",
      "16 1992-02-08 07:00:00+00:00                       France   \n",
      "17 1988-09-16 22:00:00+00:00            Republic of Korea   \n",
      "18 1988-02-13 15:00:00+00:00                       Canada   \n",
      "19 1984-07-28 15:00:00+00:00                United States   \n",
      "20 1984-02-08 07:00:00+00:00                   Yugoslavia   \n",
      "21 1980-07-19 05:00:00+00:00                         USSR   \n",
      "22 1980-02-13 13:00:00+00:00                United States   \n",
      "23 1976-07-17 12:00:00+00:00                       Canada   \n",
      "24 1976-02-04 07:00:00+00:00                      Austria   \n",
      "25 1972-08-26 07:00:00+00:00  Federal Republic of Germany   \n",
      "26 1972-02-02 23:00:00+00:00                        Japan   \n",
      "27 1968-10-12 16:00:00+00:00                       Mexico   \n",
      "28 1968-02-06 07:00:00+00:00                       France   \n",
      "29 1964-10-09 23:00:00+00:00                        Japan   \n",
      "30 1964-01-29 07:00:00+00:00                      Austria   \n",
      "31 1960-08-25 07:00:00+00:00                        Italy   \n",
      "32 1960-02-18 16:00:00+00:00                United States   \n",
      "33 1956-11-21 22:00:00+00:00            Australia, Sweden   \n",
      "34 1956-01-26 07:00:00+00:00                        Italy   \n",
      "35 1952-07-19 07:00:00+00:00                      Finland   \n",
      "36 1952-02-14 07:00:00+00:00                       Norway   \n",
      "37 1948-07-29 07:00:00+00:00                Great Britain   \n",
      "38 1948-01-30 07:00:00+00:00                  Switzerland   \n",
      "39 1936-08-01 07:00:00+00:00                      Germany   \n",
      "40 1936-02-06 08:00:00+00:00                      Germany   \n",
      "41 1932-07-30 16:00:00+00:00                United States   \n",
      "42 1932-02-04 13:00:00+00:00                United States   \n",
      "43 1928-05-17 07:00:00+00:00                  Netherlands   \n",
      "44 1928-02-11 08:00:00+00:00                  Switzerland   \n",
      "45 1924-05-04 07:00:00+00:00                       France   \n",
      "46 1924-01-25 08:00:00+00:00                       France   \n",
      "47 1920-04-20 07:00:00+00:00                      Belgium   \n",
      "48 1912-05-05 08:00:00+00:00                       Sweden   \n",
      "49 1908-04-27 08:00:00+00:00                Great Britain   \n",
      "50 1904-07-01 14:00:00+00:00                United States   \n",
      "51 1900-05-14 08:50:39+00:00                       France   \n",
      "52 1896-04-06 11:38:39+00:00                       Greece   \n",
      "\n",
      "                      game_name game_season  game_year  \n",
      "0                  Beijing 2022      Winter       2022  \n",
      "1                    Tokyo 2020      Summer       2020  \n",
      "2              PyeongChang 2018      Winter       2018  \n",
      "3                      Rio 2016      Summer       2016  \n",
      "4                    Sochi 2014      Winter       2014  \n",
      "5                   London 2012      Summer       2012  \n",
      "6                Vancouver 2010      Winter       2010  \n",
      "7                  Beijing 2008      Summer       2008  \n",
      "8                    Turin 2006      Winter       2006  \n",
      "9                   Athens 2004      Summer       2004  \n",
      "10          Salt Lake City 2002      Winter       2002  \n",
      "11                  Sydney 2000      Summer       2000  \n",
      "12                  Nagano 1998      Winter       1998  \n",
      "13                 Atlanta 1996      Summer       1996  \n",
      "14             Lillehammer 1994      Winter       1994  \n",
      "15               Barcelona 1992      Summer       1992  \n",
      "16             Albertville 1992      Winter       1992  \n",
      "17                   Seoul 1988      Summer       1988  \n",
      "18                 Calgary 1988      Winter       1988  \n",
      "19             Los Angeles 1984      Summer       1984  \n",
      "20                Sarajevo 1984      Winter       1984  \n",
      "21                  Moscow 1980      Summer       1980  \n",
      "22             Lake Placid 1980      Winter       1980  \n",
      "23                Montreal 1976      Summer       1976  \n",
      "24               Innsbruck 1976      Winter       1976  \n",
      "25                  Munich 1972      Summer       1972  \n",
      "26                 Sapporo 1972      Winter       1972  \n",
      "27             Mexico City 1968      Summer       1968  \n",
      "28                Grenoble 1968      Winter       1968  \n",
      "29                   Tokyo 1964      Summer       1964  \n",
      "30               Innsbruck 1964      Winter       1964  \n",
      "31                    Rome 1960      Summer       1960  \n",
      "32            Squaw Valley 1960      Winter       1960  \n",
      "33               Melbourne 1956      Summer       1956  \n",
      "34       Cortina d'Ampezzo 1956      Winter       1956  \n",
      "35                Helsinki 1952      Summer       1952  \n",
      "36                    Oslo 1952      Winter       1952  \n",
      "37                  London 1948      Summer       1948  \n",
      "38              St. Moritz 1948      Winter       1948  \n",
      "39                  Berlin 1936      Summer       1936  \n",
      "40  Garmisch-Partenkirchen 1936      Winter       1936  \n",
      "41             Los Angeles 1932      Summer       1932  \n",
      "42             Lake Placid 1932      Winter       1932  \n",
      "43               Amsterdam 1928      Summer       1928  \n",
      "44              St. Moritz 1928      Winter       1928  \n",
      "45                   Paris 1924      Summer       1924  \n",
      "46                Chamonix 1924      Winter       1924  \n",
      "47                 Antwerp 1920      Summer       1920  \n",
      "48               Stockholm 1912      Summer       1912  \n",
      "49                  London 1908      Summer       1908  \n",
      "50               St. Louis 1904      Summer       1904  \n",
      "51                   Paris 1900      Summer       1900  \n",
      "52                  Athens 1896      Summer       1896  \n"
     ]
    }
   ],
   "source": [
    "#Nettoyage des données des colonnes 'game_location' et 'game_name'\n",
    "df['game_location'] = df['game_location'].str.strip()\n",
    "df['game_name'] = df['game_name'].str.strip()\n",
    "print(df)"
   ]
  },
  {
   "cell_type": "code",
   "execution_count": 51,
   "id": "7c423e0e",
   "metadata": {},
   "outputs": [
    {
     "data": {
      "text/html": [
       "<div>\n",
       "<style scoped>\n",
       "    .dataframe tbody tr th:only-of-type {\n",
       "        vertical-align: middle;\n",
       "    }\n",
       "\n",
       "    .dataframe tbody tr th {\n",
       "        vertical-align: top;\n",
       "    }\n",
       "\n",
       "    .dataframe thead th {\n",
       "        text-align: right;\n",
       "    }\n",
       "</style>\n",
       "<table border=\"1\" class=\"dataframe\">\n",
       "  <thead>\n",
       "    <tr style=\"text-align: right;\">\n",
       "      <th></th>\n",
       "      <th>index</th>\n",
       "      <th>game_slug</th>\n",
       "      <th>game_end_date</th>\n",
       "      <th>game_start_date</th>\n",
       "      <th>game_location</th>\n",
       "      <th>game_name</th>\n",
       "      <th>game_season</th>\n",
       "      <th>game_year</th>\n",
       "    </tr>\n",
       "  </thead>\n",
       "  <tbody>\n",
       "    <tr>\n",
       "      <th>0</th>\n",
       "      <td>0</td>\n",
       "      <td>beijing-2022</td>\n",
       "      <td>2022-02-20 12:00:00+00:00</td>\n",
       "      <td>2022-02-04 15:00:00+00:00</td>\n",
       "      <td>China</td>\n",
       "      <td>Beijing 2022</td>\n",
       "      <td>Winter</td>\n",
       "      <td>2022</td>\n",
       "    </tr>\n",
       "    <tr>\n",
       "      <th>1</th>\n",
       "      <td>1</td>\n",
       "      <td>tokyo-2020</td>\n",
       "      <td>2021-08-08 14:00:00+00:00</td>\n",
       "      <td>2021-07-23 11:00:00+00:00</td>\n",
       "      <td>Japan</td>\n",
       "      <td>Tokyo 2020</td>\n",
       "      <td>Summer</td>\n",
       "      <td>2020</td>\n",
       "    </tr>\n",
       "    <tr>\n",
       "      <th>2</th>\n",
       "      <td>2</td>\n",
       "      <td>pyeongchang-2018</td>\n",
       "      <td>2018-02-25 08:00:00+00:00</td>\n",
       "      <td>2018-02-08 23:00:00+00:00</td>\n",
       "      <td>Republic of Korea</td>\n",
       "      <td>PyeongChang 2018</td>\n",
       "      <td>Winter</td>\n",
       "      <td>2018</td>\n",
       "    </tr>\n",
       "    <tr>\n",
       "      <th>3</th>\n",
       "      <td>3</td>\n",
       "      <td>rio-2016</td>\n",
       "      <td>2016-08-21 21:00:00+00:00</td>\n",
       "      <td>2016-08-05 12:00:00+00:00</td>\n",
       "      <td>Brazil</td>\n",
       "      <td>Rio 2016</td>\n",
       "      <td>Summer</td>\n",
       "      <td>2016</td>\n",
       "    </tr>\n",
       "    <tr>\n",
       "      <th>4</th>\n",
       "      <td>4</td>\n",
       "      <td>sochi-2014</td>\n",
       "      <td>2014-02-23 16:00:00+00:00</td>\n",
       "      <td>2014-02-07 04:00:00+00:00</td>\n",
       "      <td>Russian Federation</td>\n",
       "      <td>Sochi 2014</td>\n",
       "      <td>Winter</td>\n",
       "      <td>2014</td>\n",
       "    </tr>\n",
       "    <tr>\n",
       "      <th>5</th>\n",
       "      <td>5</td>\n",
       "      <td>london-2012</td>\n",
       "      <td>2012-08-12 19:00:00+00:00</td>\n",
       "      <td>2012-07-27 07:00:00+00:00</td>\n",
       "      <td>Great Britain</td>\n",
       "      <td>London 2012</td>\n",
       "      <td>Summer</td>\n",
       "      <td>2012</td>\n",
       "    </tr>\n",
       "    <tr>\n",
       "      <th>6</th>\n",
       "      <td>6</td>\n",
       "      <td>vancouver-2010</td>\n",
       "      <td>2010-02-28 04:00:00+00:00</td>\n",
       "      <td>2010-02-12 16:00:00+00:00</td>\n",
       "      <td>Canada</td>\n",
       "      <td>Vancouver 2010</td>\n",
       "      <td>Winter</td>\n",
       "      <td>2010</td>\n",
       "    </tr>\n",
       "    <tr>\n",
       "      <th>7</th>\n",
       "      <td>7</td>\n",
       "      <td>beijing-2008</td>\n",
       "      <td>2008-08-24 12:00:00+00:00</td>\n",
       "      <td>2008-08-08 00:00:00+00:00</td>\n",
       "      <td>China</td>\n",
       "      <td>Beijing 2008</td>\n",
       "      <td>Summer</td>\n",
       "      <td>2008</td>\n",
       "    </tr>\n",
       "    <tr>\n",
       "      <th>8</th>\n",
       "      <td>8</td>\n",
       "      <td>turin-2006</td>\n",
       "      <td>2006-02-26 19:00:00+00:00</td>\n",
       "      <td>2006-02-10 07:00:00+00:00</td>\n",
       "      <td>Italy</td>\n",
       "      <td>Turin 2006</td>\n",
       "      <td>Winter</td>\n",
       "      <td>2006</td>\n",
       "    </tr>\n",
       "    <tr>\n",
       "      <th>9</th>\n",
       "      <td>9</td>\n",
       "      <td>athens-2004</td>\n",
       "      <td>2004-08-29 18:00:00+00:00</td>\n",
       "      <td>2004-08-13 06:00:00+00:00</td>\n",
       "      <td>Greece</td>\n",
       "      <td>Athens 2004</td>\n",
       "      <td>Summer</td>\n",
       "      <td>2004</td>\n",
       "    </tr>\n",
       "    <tr>\n",
       "      <th>10</th>\n",
       "      <td>10</td>\n",
       "      <td>salt-lake-city-2002</td>\n",
       "      <td>2002-02-24 08:00:00+00:00</td>\n",
       "      <td>2002-02-08 15:00:00+00:00</td>\n",
       "      <td>United States</td>\n",
       "      <td>Salt Lake City 2002</td>\n",
       "      <td>Winter</td>\n",
       "      <td>2002</td>\n",
       "    </tr>\n",
       "    <tr>\n",
       "      <th>11</th>\n",
       "      <td>11</td>\n",
       "      <td>sydney-2000</td>\n",
       "      <td>2000-10-01 09:00:00+00:00</td>\n",
       "      <td>2000-09-15 01:00:00+00:00</td>\n",
       "      <td>Australia</td>\n",
       "      <td>Sydney 2000</td>\n",
       "      <td>Summer</td>\n",
       "      <td>2000</td>\n",
       "    </tr>\n",
       "  </tbody>\n",
       "</table>\n",
       "</div>"
      ],
      "text/plain": [
       "    index            game_slug             game_end_date  \\\n",
       "0       0         beijing-2022 2022-02-20 12:00:00+00:00   \n",
       "1       1           tokyo-2020 2021-08-08 14:00:00+00:00   \n",
       "2       2     pyeongchang-2018 2018-02-25 08:00:00+00:00   \n",
       "3       3             rio-2016 2016-08-21 21:00:00+00:00   \n",
       "4       4           sochi-2014 2014-02-23 16:00:00+00:00   \n",
       "5       5          london-2012 2012-08-12 19:00:00+00:00   \n",
       "6       6       vancouver-2010 2010-02-28 04:00:00+00:00   \n",
       "7       7         beijing-2008 2008-08-24 12:00:00+00:00   \n",
       "8       8           turin-2006 2006-02-26 19:00:00+00:00   \n",
       "9       9          athens-2004 2004-08-29 18:00:00+00:00   \n",
       "10     10  salt-lake-city-2002 2002-02-24 08:00:00+00:00   \n",
       "11     11          sydney-2000 2000-10-01 09:00:00+00:00   \n",
       "\n",
       "             game_start_date       game_location            game_name  \\\n",
       "0  2022-02-04 15:00:00+00:00               China         Beijing 2022   \n",
       "1  2021-07-23 11:00:00+00:00               Japan           Tokyo 2020   \n",
       "2  2018-02-08 23:00:00+00:00   Republic of Korea     PyeongChang 2018   \n",
       "3  2016-08-05 12:00:00+00:00              Brazil             Rio 2016   \n",
       "4  2014-02-07 04:00:00+00:00  Russian Federation           Sochi 2014   \n",
       "5  2012-07-27 07:00:00+00:00       Great Britain          London 2012   \n",
       "6  2010-02-12 16:00:00+00:00              Canada       Vancouver 2010   \n",
       "7  2008-08-08 00:00:00+00:00               China         Beijing 2008   \n",
       "8  2006-02-10 07:00:00+00:00               Italy           Turin 2006   \n",
       "9  2004-08-13 06:00:00+00:00              Greece          Athens 2004   \n",
       "10 2002-02-08 15:00:00+00:00       United States  Salt Lake City 2002   \n",
       "11 2000-09-15 01:00:00+00:00           Australia          Sydney 2000   \n",
       "\n",
       "   game_season  game_year  \n",
       "0       Winter       2022  \n",
       "1       Summer       2020  \n",
       "2       Winter       2018  \n",
       "3       Summer       2016  \n",
       "4       Winter       2014  \n",
       "5       Summer       2012  \n",
       "6       Winter       2010  \n",
       "7       Summer       2008  \n",
       "8       Winter       2006  \n",
       "9       Summer       2004  \n",
       "10      Winter       2002  \n",
       "11      Summer       2000  "
      ]
     },
     "execution_count": 51,
     "metadata": {},
     "output_type": "execute_result"
    }
   ],
   "source": [
    "# Filtrage des données à partir de 2000\n",
    "df = df[df['game_start_date'].dt.year >= 2000]\n",
    "df"
   ]
  },
  {
   "cell_type": "code",
   "execution_count": 59,
   "id": "0df09609",
   "metadata": {},
   "outputs": [
    {
     "name": "stdout",
     "output_type": "stream",
     "text": [
      "Différences entre start_year et game_year :\n",
      "    index   game_slug             game_end_date           game_start_date  \\\n",
      "1      1  tokyo-2020 2021-08-08 14:00:00+00:00 2021-07-23 11:00:00+00:00   \n",
      "\n",
      "  game_location   game_name game_season  game_year  start_year  \n",
      "1         Japan  Tokyo 2020      Summer       2020        2021  \n"
     ]
    },
    {
     "name": "stderr",
     "output_type": "stream",
     "text": [
      "C:\\Users\\tania\\AppData\\Local\\Temp\\ipykernel_24596\\2440060762.py:4: SettingWithCopyWarning: \n",
      "A value is trying to be set on a copy of a slice from a DataFrame.\n",
      "Try using .loc[row_indexer,col_indexer] = value instead\n",
      "\n",
      "See the caveats in the documentation: https://pandas.pydata.org/pandas-docs/stable/user_guide/indexing.html#returning-a-view-versus-a-copy\n",
      "  df['start_year'] = df['game_start_date'].dt.year\n"
     ]
    }
   ],
   "source": [
    "#Vérifier que l'année de début des JO correspond à celle où les JO ont eu lieu\n",
    "#En 2020, les JO ont été reportés à cause du COVID (ils ont eu lieu en 2021)\n",
    "\n",
    "df['start_year'] = df['game_start_date'].dt.year\n",
    "diff_date = df[df['start_year'] != df['game_year']]\n",
    "print(\"Différences entre start_year et game_year :\\n\", diff_date)"
   ]
  },
  {
   "cell_type": "code",
   "execution_count": 57,
   "id": "4dba9663",
   "metadata": {},
   "outputs": [
    {
     "name": "stdout",
     "output_type": "stream",
     "text": [
      "Erreurs dans les dates :\n",
      " Empty DataFrame\n",
      "Columns: [index, game_slug, game_end_date, game_start_date, game_location, game_name, game_season, game_year, start_year]\n",
      "Index: []\n"
     ]
    }
   ],
   "source": [
    "#Vérifier s'il y a des erreurs dans les dates\n",
    "erreurs_dates = df[df['game_end_date'] < df['game_start_date']]\n",
    "print(\"Erreurs dans les dates :\\n\", erreurs_dates)"
   ]
  },
  {
   "cell_type": "code",
   "execution_count": 58,
   "id": "38923a29",
   "metadata": {},
   "outputs": [
    {
     "name": "stdout",
     "output_type": "stream",
     "text": [
      "    index     game_slug             game_end_date           game_start_date  \\\n",
      "1       1    tokyo-2020 2021-08-08 14:00:00+00:00 2021-07-23 11:00:00+00:00   \n",
      "3       3      rio-2016 2016-08-21 21:00:00+00:00 2016-08-05 12:00:00+00:00   \n",
      "5       5   london-2012 2012-08-12 19:00:00+00:00 2012-07-27 07:00:00+00:00   \n",
      "7       7  beijing-2008 2008-08-24 12:00:00+00:00 2008-08-08 00:00:00+00:00   \n",
      "9       9   athens-2004 2004-08-29 18:00:00+00:00 2004-08-13 06:00:00+00:00   \n",
      "11     11   sydney-2000 2000-10-01 09:00:00+00:00 2000-09-15 01:00:00+00:00   \n",
      "\n",
      "    game_location     game_name game_season  game_year  start_year  \n",
      "1           Japan    Tokyo 2020      Summer       2020        2021  \n",
      "3          Brazil      Rio 2016      Summer       2016        2016  \n",
      "5   Great Britain   London 2012      Summer       2012        2012  \n",
      "7           China  Beijing 2008      Summer       2008        2008  \n",
      "9          Greece   Athens 2004      Summer       2004        2004  \n",
      "11      Australia   Sydney 2000      Summer       2000        2000  \n"
     ]
    }
   ],
   "source": [
    "#Prise en compte des jeux d'été seulement\n",
    "jo_ete = df[df['game_season'] != 'Winter']\n",
    "print(jo_ete)"
   ]
  },
  {
   "cell_type": "code",
   "execution_count": null,
   "id": "503f9622",
   "metadata": {},
   "outputs": [],
   "source": []
  }
 ],
 "metadata": {
  "kernelspec": {
   "display_name": "Python 3 (ipykernel)",
   "language": "python",
   "name": "python3"
  },
  "language_info": {
   "codemirror_mode": {
    "name": "ipython",
    "version": 3
   },
   "file_extension": ".py",
   "mimetype": "text/x-python",
   "name": "python",
   "nbconvert_exporter": "python",
   "pygments_lexer": "ipython3",
   "version": "3.11.5"
  }
 },
 "nbformat": 4,
 "nbformat_minor": 5
}

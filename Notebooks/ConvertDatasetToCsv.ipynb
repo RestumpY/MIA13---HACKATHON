{
 "cells": [
  {
   "cell_type": "code",
   "execution_count": 2,
   "metadata": {},
   "outputs": [],
   "source": [
    "import pandas as pd\n",
    "import re\n",
    "import xml.etree.ElementTree as ET\n",
    "\n"
   ]
  },
  {
   "cell_type": "markdown",
   "metadata": {},
   "source": [
    "```markdown\n",
    "# Olympic Athletes\n",
    "```"
   ]
  },
  {
   "cell_type": "code",
   "execution_count": 9,
   "metadata": {},
   "outputs": [],
   "source": [
    "def clean_text(text):\n",
    "    if isinstance(text, str):\n",
    "        cleaned_text = re.sub(r'[\\n\\u00a0\\u2026\\u2019\\u201d]', '', text)\n",
    "        cleaned_text = cleaned_text.replace(';', '')  # Retirer les points-virgules\n",
    "        cleaned_text = re.sub(r'\\s{2,}', ' ', cleaned_text)  # Remplacer plusieurs espaces par un seul espace\n",
    "        return cleaned_text\n",
    "    \n",
    "    else:\n",
    "        return text"
   ]
  },
  {
   "cell_type": "code",
   "execution_count": 10,
   "metadata": {},
   "outputs": [],
   "source": [
    "# Charger le JSON depuis un fichier ou une URL\n",
    "json_data = pd.read_json(\"./Datas/olympic_athletes.json\")"
   ]
  },
  {
   "cell_type": "code",
   "execution_count": 11,
   "metadata": {},
   "outputs": [
    {
     "name": "stderr",
     "output_type": "stream",
     "text": [
      "C:\\Users\\yanni\\AppData\\Local\\Temp\\ipykernel_23180\\1478010558.py:2: FutureWarning: Setting an item of incompatible dtype is deprecated and will raise an error in a future version of pandas. Value '' has dtype incompatible with float64, please explicitly cast to a compatible dtype first.\n",
      "  json_data.fillna(\"\", inplace=True)\n"
     ]
    }
   ],
   "source": [
    "# Remplacer les valeurs null par des chaînes vides\n",
    "json_data.fillna(\"\", inplace=True)"
   ]
  },
  {
   "cell_type": "code",
   "execution_count": 12,
   "metadata": {},
   "outputs": [
    {
     "name": "stderr",
     "output_type": "stream",
     "text": [
      "C:\\Users\\yanni\\AppData\\Local\\Temp\\ipykernel_23180\\3731777418.py:2: FutureWarning: DataFrame.applymap has been deprecated. Use DataFrame.map instead.\n",
      "  json_data = json_data.applymap(clean_text)\n"
     ]
    }
   ],
   "source": [
    "# Appliquer la fonction de nettoyage à toutes les colonnes du DataFrame\n",
    "json_data = json_data.applymap(clean_text)"
   ]
  },
  {
   "cell_type": "code",
   "execution_count": 13,
   "metadata": {},
   "outputs": [],
   "source": [
    "json_data.to_csv(\"olympic_athletes.csv\", index=False)"
   ]
  },
  {
   "cell_type": "markdown",
   "metadata": {},
   "source": [
    "```markdown\n",
    "# Olympic Hosts\n",
    "```\n"
   ]
  },
  {
   "cell_type": "code",
   "execution_count": 3,
   "metadata": {},
   "outputs": [],
   "source": [
    "# Parse le fichier XML\n",
    "tree = ET.parse('./Datas/olympic_hosts.xml')\n",
    "root = tree.getroot()\n"
   ]
  },
  {
   "cell_type": "code",
   "execution_count": 5,
   "metadata": {},
   "outputs": [],
   "source": [
    "# Initialise une liste pour stocker les données\n",
    "data = []\n",
    "\n",
    "# Parcourt chaque élément \"row\" dans le XML et extrait les données\n",
    "for row in root.findall('row'):\n",
    "    index = row.find('index').text\n",
    "    game_slug = row.find('game_slug').text\n",
    "    game_end_date = row.find('game_end_date').text\n",
    "    game_start_date = row.find('game_start_date').text\n",
    "    game_location = row.find('game_location').text\n",
    "    game_name = row.find('game_name').text\n",
    "    game_season = row.find('game_season').text\n",
    "    game_year = row.find('game_year').text\n",
    "    \n",
    "    data.append({'index': index,\n",
    "                 'game_slug': game_slug,\n",
    "                 'game_end_date': game_end_date,\n",
    "                 'game_start_date': game_start_date,\n",
    "                 'game_location': game_location,\n",
    "                 'game_name': game_name,\n",
    "                 'game_season': game_season,\n",
    "                 'game_year': game_year})\n"
   ]
  },
  {
   "cell_type": "code",
   "execution_count": 6,
   "metadata": {},
   "outputs": [],
   "source": [
    "# Convertit la liste de dictionnaires en DataFrame Pandas\n",
    "df = pd.DataFrame(data)\n",
    "\n",
    "# Exporte les données au format CSV\n",
    "df.to_csv('olympic_hosts.csv', index=False)"
   ]
  },
  {
   "cell_type": "markdown",
   "metadata": {},
   "source": [
    "```markdown\n",
    "# Olympic Medals\n",
    "```"
   ]
  },
  {
   "cell_type": "code",
   "execution_count": 8,
   "metadata": {},
   "outputs": [],
   "source": [
    "# Charger le fichier Excel\n",
    "df = pd.read_excel('./Datas/olympic_medals.xlsx')"
   ]
  },
  {
   "cell_type": "code",
   "execution_count": 9,
   "metadata": {},
   "outputs": [],
   "source": [
    "# Exporter les données au format CSV\n",
    "df.to_csv('olympic_medals.csv', index=False)"
   ]
  },
  {
   "cell_type": "markdown",
   "metadata": {},
   "source": [
    "```markdown\n",
    "# Olympic Results\n",
    "```\n"
   ]
  },
  {
   "cell_type": "code",
   "execution_count": 10,
   "metadata": {},
   "outputs": [],
   "source": [
    "tables = pd.read_html(\"./Datas/olympic_results.html\")"
   ]
  },
  {
   "cell_type": "code",
   "execution_count": 11,
   "metadata": {},
   "outputs": [],
   "source": [
    "tables[0].to_csv('olympic_results.csv', index=False)"
   ]
  }
 ],
 "metadata": {
  "kernelspec": {
   "display_name": "Python 3",
   "language": "python",
   "name": "python3"
  },
  "language_info": {
   "codemirror_mode": {
    "name": "ipython",
    "version": 3
   },
   "file_extension": ".py",
   "mimetype": "text/x-python",
   "name": "python",
   "nbconvert_exporter": "python",
   "pygments_lexer": "ipython3",
   "version": "3.12.0"
  }
 },
 "nbformat": 4,
 "nbformat_minor": 2
}

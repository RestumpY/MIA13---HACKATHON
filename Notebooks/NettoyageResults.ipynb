{
 "cells": [
  {
   "cell_type": "markdown",
   "id": "5966f793",
   "metadata": {},
   "source": [
    "# Nettoyage du fichier \"olympic_result.csv\""
   ]
  },
  {
   "cell_type": "code",
   "execution_count": 1,
   "id": "0d2c9105",
   "metadata": {},
   "outputs": [],
   "source": [
    "from pyspark.sql import SparkSession\n",
    "from pyspark.sql.types import StructType, StructField, StringType, IntegerType, BooleanType\n",
    "import os\n"
   ]
  },
  {
   "cell_type": "code",
   "execution_count": 2,
   "id": "199056a3-30cd-46e5-afc2-d1de1d6ca5ed",
   "metadata": {},
   "outputs": [],
   "source": [
    "# Définir les environnements Spark\n",
    "os.environ['PYSPARK_PYTHON'] = 'C:/Users/yanni/AppData/Local/Programs/Python/Python312/python.exe'\n",
    "os.environ['PYSPARK_DRIVER_PYTHON'] = 'C:/Users/yanni/AppData/Local/Programs/Python/Python312/python.exe'"
   ]
  },
  {
   "cell_type": "code",
   "execution_count": 3,
   "id": "da22ad96",
   "metadata": {},
   "outputs": [],
   "source": [
    "# Création d'une session Spark\n",
    "spark = SparkSession.builder \\\n",
    "    .appName(\"Hackathon\") \\\n",
    "    .config(\"spark.jars\", \"postgresql-42.6.0.jar\") \\\n",
    "    .getOrCreate()"
   ]
  },
  {
   "cell_type": "code",
   "execution_count": 4,
   "id": "4c536c54",
   "metadata": {},
   "outputs": [],
   "source": [
    "# Définir les paramètres de connexion\n",
    "url = \"jdbc:postgresql://postgresql-jo2024.alwaysdata.net:5432/jo2024_postgres\"\n",
    "properties = {\n",
    "    \"user\": \"jo2024_fatima\",\n",
    "    \"password\": \"Ipssi2024!\",  # Assurez-vous de protéger cette information sensible\n",
    "    \"driver\": \"org.postgresql.Driver\"\n",
    "}"
   ]
  },
  {
   "cell_type": "code",
   "execution_count": 5,
   "id": "328d5dac-028c-4c94-a0f8-9d7ed7bf1d1e",
   "metadata": {},
   "outputs": [],
   "source": [
    "# Chemin vers votre fichier CSV\n",
    "csv_file_path = \"./Datas/olympic_results.csv\""
   ]
  },
  {
   "cell_type": "code",
   "execution_count": 6,
   "id": "3b9d12a0",
   "metadata": {},
   "outputs": [],
   "source": [
    "# Définir le schéma pour le DataFrame\n",
    "schema = StructType([\n",
    "    StructField(\"discipline_title\", StringType(), True),\n",
    "    StructField(\"event_title\", StringType(), True),\n",
    "    StructField(\"slug_game\", StringType(), True),\n",
    "    StructField(\"country_name\", StringType(), True),\n",
    "    StructField(\"medal_type\", StringType(), True),\n",
    "    StructField(\"rank_equal\", BooleanType(), True),\n",
    "    StructField(\"rank_position\", IntegerType(), True),\n",
    "    StructField(\"athlete_full_name\", StringType(), True),\n",
    "    StructField(\"value_unit\", StringType(), True),\n",
    "    StructField(\"value_type\", StringType(), True)\n",
    "])"
   ]
  },
  {
   "cell_type": "code",
   "execution_count": 7,
   "id": "82965a90-ab7e-4878-9fe7-ca13b62b9a80",
   "metadata": {},
   "outputs": [],
   "source": [
    "# Lire le fichier CSV dans un DataFrame avec le schéma défini\n",
    "df = spark.read.csv(csv_file_path, header=True)\n",
    "# Supprimer les colonnes non nécessaires\n",
    "df = df.drop('Unnamed: 0', 'athletes', 'athlete_url')\n"
   ]
  },
  {
   "cell_type": "code",
   "execution_count": 8,
   "id": "8b2a2ca4-18d7-4d85-8da6-e5fcab870c6b",
   "metadata": {},
   "outputs": [
    {
     "name": "stdout",
     "output_type": "stream",
     "text": [
      "root\n",
      " |-- discipline_title: string (nullable = true)\n",
      " |-- event_title: string (nullable = true)\n",
      " |-- slug_game: string (nullable = true)\n",
      " |-- participant_type: string (nullable = true)\n",
      " |-- medal_type: string (nullable = true)\n",
      " |-- rank_equal: string (nullable = true)\n",
      " |-- rank_position: string (nullable = true)\n",
      " |-- country_name: string (nullable = true)\n",
      " |-- country_code: string (nullable = true)\n",
      " |-- country_3_letter_code: string (nullable = true)\n",
      " |-- athlete_full_name: string (nullable = true)\n",
      " |-- value_unit: string (nullable = true)\n",
      " |-- value_type: string (nullable = true)\n",
      "\n"
     ]
    }
   ],
   "source": [
    "# Afficher le schéma du DataFrame pour vérifier les types\n",
    "df.printSchema()\n"
   ]
  },
  {
   "cell_type": "code",
   "execution_count": 9,
   "id": "fb360ba8-c1aa-4fa6-b6d9-5531c2b2b3c4",
   "metadata": {},
   "outputs": [
    {
     "name": "stdout",
     "output_type": "stream",
     "text": [
      "+----------------+-------------+------------+----------------+----------+----------+-------------+-------------+------------+---------------------+-----------------+----------+----------+\n",
      "|discipline_title|  event_title|   slug_game|participant_type|medal_type|rank_equal|rank_position| country_name|country_code|country_3_letter_code|athlete_full_name|value_unit|value_type|\n",
      "+----------------+-------------+------------+----------------+----------+----------+-------------+-------------+------------+---------------------+-----------------+----------+----------+\n",
      "|         Curling|Mixed Doubles|beijing-2022|        GameTeam|      GOLD|     False|            1|        Italy|          IT|                  ITA|             NULL|      NULL|      NULL|\n",
      "|         Curling|Mixed Doubles|beijing-2022|        GameTeam|    SILVER|     False|            2|       Norway|          NO|                  NOR|             NULL|      NULL|      NULL|\n",
      "|         Curling|Mixed Doubles|beijing-2022|        GameTeam|    BRONZE|     False|            3|       Sweden|          SE|                  SWE|             NULL|      NULL|      NULL|\n",
      "|         Curling|Mixed Doubles|beijing-2022|        GameTeam|      NULL|     False|            4|Great Britain|          GB|                  GBR|             NULL|      NULL|      NULL|\n",
      "|         Curling|Mixed Doubles|beijing-2022|        GameTeam|      NULL|     False|            5|       Canada|          CA|                  CAN|             NULL|      NULL|      NULL|\n",
      "+----------------+-------------+------------+----------------+----------+----------+-------------+-------------+------------+---------------------+-----------------+----------+----------+\n",
      "only showing top 5 rows\n",
      "\n"
     ]
    }
   ],
   "source": [
    "# Afficher les 5 premières lignes du DataFrame\n",
    "df.show(5)"
   ]
  },
  {
   "cell_type": "code",
   "execution_count": 10,
   "id": "7b169107",
   "metadata": {},
   "outputs": [],
   "source": [
    "# Remplir les valeurs manquantes\n",
    "df_cleaned = df.fillna({\n",
    "    'rank_equal': False,\n",
    "    'rank_position': -1,\n",
    "    'athlete_full_name': 'Unknown',\n",
    "    'value_unit': 'Unknown',\n",
    "    'value_type': 'Unknown'\n",
    "})"
   ]
  },
  {
   "cell_type": "code",
   "execution_count": 11,
   "id": "8fdc1d54",
   "metadata": {},
   "outputs": [],
   "source": [
    "# Liste des disciplines aux JO 2024\n",
    "olympic_disciplines_2024 = [\n",
    "    \"Archery\", \"Artistic Gymnastics\", \"Artistic Swimming\", \"Athletics\", \"Badminton\",\n",
    "    \"Basketball\", \"Basketball 3x3\", \"Beach Volleyball\", \"Boxing\", \"Breaking\",\n",
    "    \"Canoe Slalom\", \"Canoe Sprint\", \"Cycling BMX Freestyle\", \"Cycling BMX Racing\",\n",
    "    \"Cycling Mountain Bike\", \"Cycling Road\", \"Cycling Track\", \"Diving\", \"Equestrian\",\n",
    "    \"Fencing\", \"Football\", \"Golf\", \"Handball\", \"Hockey\", \"Judo\", \"Marathon Swimming\",\n",
    "    \"Modern Pentathlon\", \"Rhythmic Gymnastics\", \"Rowing\", \"Rugby Sevens\", \"Sailing\",\n",
    "    \"Shooting\", \"Skateboarding\", \"Sport Climbing\", \"Surfing\", \"Swimming\", \"Table Tennis\",\n",
    "    \"Taekwondo\", \"Tennis\", \"Trampoline\", \"Triathlon\", \"Volleyball\", \"Water Polo\",\n",
    "    \"Weightlifting\", \"Wrestling\"\n",
    "]"
   ]
  },
  {
   "cell_type": "code",
   "execution_count": 12,
   "id": "f973dd55",
   "metadata": {},
   "outputs": [],
   "source": [
    "# Filtrer le DataFrame pour garder uniquement les disciplines des JO 2024\n",
    "df_cleaned = df_cleaned.filter(df_cleaned.discipline_title.isin(olympic_disciplines_2024))"
   ]
  },
  {
   "cell_type": "code",
   "execution_count": 13,
   "id": "984a078a",
   "metadata": {},
   "outputs": [
    {
     "name": "stdout",
     "output_type": "stream",
     "text": [
      "+----------------+---------------+----------+----------------+----------+----------+-------------+--------------------+------------+---------------------+-----------------+----------+----------+\n",
      "|discipline_title|    event_title| slug_game|participant_type|medal_type|rank_equal|rank_position|        country_name|country_code|country_3_letter_code|athlete_full_name|value_unit|value_type|\n",
      "+----------------+---------------+----------+----------------+----------+----------+-------------+--------------------+------------+---------------------+-----------------+----------+----------+\n",
      "|        Shooting|Trap Mixed Team|tokyo-2020|        GameTeam|      GOLD|     False|            1|               Spain|          ES|                  ESP|          Unknown|   Unknown|   Unknown|\n",
      "|        Shooting|Trap Mixed Team|tokyo-2020|        GameTeam|    SILVER|     False|            2|          San Marino|          SM|                  SMR|          Unknown|   Unknown|   Unknown|\n",
      "|        Shooting|Trap Mixed Team|tokyo-2020|        GameTeam|    BRONZE|     False|            3|United States of ...|          US|                  USA|          Unknown|   Unknown|   Unknown|\n",
      "|        Shooting|Trap Mixed Team|tokyo-2020|        GameTeam|      NULL|     False|            4|            Slovakia|          SK|                  SVK|          Unknown|   Unknown|   Unknown|\n",
      "|        Shooting|Trap Mixed Team|tokyo-2020|        GameTeam|      NULL|     False|            5|               Japan|          JP|                  JPN|          Unknown|   Unknown|   Unknown|\n",
      "|        Shooting|Trap Mixed Team|tokyo-2020|        GameTeam|      NULL|     False|            6|           Australia|          AU|                  AUS|          Unknown|   Unknown|   Unknown|\n",
      "|        Shooting|Trap Mixed Team|tokyo-2020|        GameTeam|      NULL|     False|            7|           Australia|          AU|                  AUS|          Unknown|   Unknown|   Unknown|\n",
      "|        Shooting|Trap Mixed Team|tokyo-2020|        GameTeam|      NULL|     False|            8|            Slovakia|          SK|                  SVK|          Unknown|   Unknown|   Unknown|\n",
      "|        Shooting|Trap Mixed Team|tokyo-2020|        GameTeam|      NULL|     False|            9|People's Republic...|          CN|                  CHN|          Unknown|   Unknown|   Unknown|\n",
      "|        Shooting|Trap Mixed Team|tokyo-2020|        GameTeam|      NULL|     False|           10|       Great Britain|          GB|                  GBR|          Unknown|   Unknown|   Unknown|\n",
      "+----------------+---------------+----------+----------------+----------+----------+-------------+--------------------+------------+---------------------+-----------------+----------+----------+\n",
      "only showing top 10 rows\n",
      "\n"
     ]
    }
   ],
   "source": [
    "# Afficher le DataFrame filtré (les 10 premières lignes)\n",
    "df_cleaned.show(10)"
   ]
  },
  {
   "cell_type": "code",
   "execution_count": 14,
   "id": "3fb7539a",
   "metadata": {},
   "outputs": [
    {
     "name": "stdout",
     "output_type": "stream",
     "text": [
      "+---------------------+\n",
      "|discipline_title     |\n",
      "+---------------------+\n",
      "|Tennis               |\n",
      "|Boxing               |\n",
      "|Marathon Swimming    |\n",
      "|Golf                 |\n",
      "|Rowing               |\n",
      "|Judo                 |\n",
      "|Sailing              |\n",
      "|Swimming             |\n",
      "|Cycling BMX Freestyle|\n",
      "|Basketball           |\n",
      "|Handball             |\n",
      "|Rhythmic Gymnastics  |\n",
      "|Triathlon            |\n",
      "|Badminton            |\n",
      "|Canoe Sprint         |\n",
      "|Athletics            |\n",
      "|Cycling Track        |\n",
      "|Beach Volleyball     |\n",
      "|Skateboarding        |\n",
      "|Equestrian           |\n",
      "+---------------------+\n",
      "only showing top 20 rows\n",
      "\n"
     ]
    }
   ],
   "source": [
    "# Afficher toutes les disciplines distinctes dans le DataFrame filtré\n",
    "distinct_disciplines_filtered = df_cleaned.select('discipline_title').distinct()\n",
    "distinct_disciplines_filtered.show(truncate=False)"
   ]
  },
  {
   "cell_type": "code",
   "execution_count": null,
   "id": "01a0e0e1",
   "metadata": {},
   "outputs": [],
   "source": [
    "from pyspark.sql import SparkSession\n",
    "\n",
    "# Initialiser SparkSession\n",
    "spark = SparkSession.builder \\\n",
    "    .appName(\"PostgreSQL Test Connection\") \\\n",
    "    .config(\"spark.jars\", \"postgresql-42.7.3.jar\") \\\n",
    "    .getOrCreate()\n",
    "\n",
    "# Définir les paramètres de connexion\n",
    "url = \"jdbc:postgresql://postgresql-jo2024.alwaysdata.net:5432/jo2024_postgres\"\n",
    "properties = {\n",
    "    \"user\": \"jo2024_fatima\",\n",
    "    \"password\": \"Ipssi2024!\",  # Assurez-vous de protéger cette information sensible\n",
    "    \"driver\": \"org.postgresql.Driver\"\n",
    "}\n",
    "\n",
    "# Test de la connexion en lisant une petite table ou en exécutant une requête simple\n",
    "try:\n",
    "    df_test = spark.read.jdbc(url=url, table=\"(SELECT 1) AS test_query\", properties=properties)\n",
    "    df_test.show()\n",
    "    print(\"Connexion réussie à la base de données jo2024_postgres !\")\n",
    "except Exception as e:\n",
    "    print(f\"Erreur lors de la connexion : {e}\")"
   ]
  },
  {
   "cell_type": "code",
   "execution_count": null,
   "id": "4b86d205",
   "metadata": {},
   "outputs": [],
   "source": [
    "from pyspark.sql import SparkSession\n",
    "\n",
    "# Initialiser SparkSession\n",
    "spark = SparkSession.builder \\\n",
    "    .appName(\"PostgreSQL Save DataFrame\") \\\n",
    "    .config(\"spark.jars\", \"postgresql-42.7.3.jar\") \\\n",
    "    .getOrCreate()\n",
    "\n",
    "# Définir les paramètres de connexion\n",
    "url = \"jdbc:postgresql://postgresql-jo2024.alwaysdata.net:5432/jo2024_postgres\"\n",
    "properties = {\n",
    "    \"user\": \"jo2024_fatima\",\n",
    "    \"password\": \"Ipssi2024!\",  # Assurez-vous de protéger cette information sensible\n",
    "    \"driver\": \"org.postgresql.Driver\"\n",
    "}\n",
    "\n",
    "# Assurez-vous que df_cleaned est déjà défini quelque part dans votre script\n",
    "# Par exemple :\n",
    "# df_cleaned = ...\n",
    "\n",
    "# Sauvegarder le DataFrame dans PostgreSQL\n",
    "try:\n",
    "    df_cleaned.write \\\n",
    "        .jdbc(url=url, table=\"your_table_name\", mode=\"overwrite\", properties=properties)\n",
    "    print(\"DataFrame sauvegardé avec succès dans la table 'your_table_name' de la base de données jo2024_postgres !\")\n",
    "except Exception as e:\n",
    "    print(f\"Erreur lors de l'enregistrement du DataFrame : {e}\")\n"
   ]
  }
 ],
 "metadata": {
  "kernelspec": {
   "display_name": "Python 3 (ipykernel)",
   "language": "python",
   "name": "python3"
  },
  "language_info": {
   "codemirror_mode": {
    "name": "ipython",
    "version": 3
   },
   "file_extension": ".py",
   "mimetype": "text/x-python",
   "name": "python",
   "nbconvert_exporter": "python",
   "pygments_lexer": "ipython3",
   "version": "3.12.0"
  }
 },
 "nbformat": 4,
 "nbformat_minor": 5
}

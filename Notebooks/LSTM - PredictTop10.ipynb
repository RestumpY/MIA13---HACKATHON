{
 "cells": [
  {
   "cell_type": "code",
   "execution_count": null,
   "metadata": {},
   "outputs": [],
   "source": [
    "import pandas as pd\n",
    "from sklearn.preprocessing import LabelEncoder\n",
    "from tensorflow.keras.preprocessing.sequence import TimeseriesGenerator\n",
    "from tensorflow.keras.models import Sequential\n",
    "from tensorflow.keras.layers import LSTM, Dense\n",
    "import numpy as np"
   ]
  },
  {
   "cell_type": "code",
   "execution_count": null,
   "metadata": {},
   "outputs": [],
   "source": [
    "\n",
    "# Charger les fichiers CSV\n",
    "olympic_hosts = pd.read_csv('./Datas/olympic_hosts.csv')\n",
    "olympic_medals = pd.read_csv('./Datas/olympic_medals.csv')\n",
    "\n",
    "# Fusionner les datasets sur les colonnes correspondantes\n",
    "combined_data = pd.merge(olympic_medals, olympic_hosts, left_on='slug_game', right_on='game_slug')\n",
    "\n",
    "# Agréger les données pour obtenir le nombre de médailles par pays pour chaque jeu\n",
    "medals_by_country = combined_data.groupby(['game_slug', 'game_year', 'country_name', 'medal_type']).size().unstack(fill_value=0)\n",
    "\n",
    "# Réinitialiser l'index pour faciliter la manipulation\n",
    "medals_by_country = medals_by_country.reset_index()\n",
    "\n",
    "# Encoder les noms des pays\n",
    "label_encoder = LabelEncoder()\n",
    "medals_by_country['country_code'] = label_encoder.fit_transform(medals_by_country['country_name'])\n",
    "\n",
    "# Créer un mapping des codes de pays aux noms des pays\n",
    "country_mapping = dict(zip(medals_by_country['country_code'], medals_by_country['country_name']))\n",
    "\n",
    "# Trier les données par année pour chaque pays\n",
    "medals_by_country = medals_by_country.sort_values(by=['country_code', 'game_year'])\n",
    "\n",
    "# Remplir les valeurs manquantes pour éviter les erreurs de séquence\n",
    "medals_by_country = medals_by_country.fillna(0)\n",
    "\n",
    "# Séparer les caractéristiques et la cible\n",
    "features = medals_by_country[['game_year', 'country_code', 'BRONZE', 'GOLD', 'SILVER']].values\n",
    "target = medals_by_country[['BRONZE', 'GOLD', 'SILVER']].values\n",
    "\n",
    "# Vérifier les dimensions des données\n",
    "print(\"Features shape:\", features.shape)\n",
    "print(\"Target shape:\", target.shape)\n"
   ]
  },
  {
   "cell_type": "code",
   "execution_count": null,
   "metadata": {},
   "outputs": [],
   "source": [
    "\n",
    "# Définir la longueur des séquences temporelles\n",
    "sequence_length = 3\n",
    "\n",
    "# Utiliser toutes les données disponibles pour l'entraînement\n",
    "train_features = features\n",
    "train_target = target\n",
    "\n",
    "# Créer les générateurs de séquences temporelles pour l'entraînement\n",
    "train_generator = TimeseriesGenerator(train_features, train_target, length=sequence_length, batch_size=1)\n",
    "\n",
    "# Définir et compiler le modèle LSTM\n",
    "model = Sequential()\n",
    "model.add(LSTM(50, activation='relu', input_shape=(sequence_length, features.shape[1])))\n",
    "model.add(Dense(3))\n",
    "model.compile(optimizer='adam', loss='mse')\n",
    "\n",
    "# Entraîner le modèle\n",
    "model.fit(train_generator, epochs=20)"
   ]
  },
  {
   "cell_type": "code",
   "execution_count": null,
   "metadata": {},
   "outputs": [],
   "source": [
    "\n",
    "# Préparer les dernières séquences pour chaque pays pour prédire les JO 2024\n",
    "last_sequences = []\n",
    "countries = []\n",
    "\n",
    "for country_code in medals_by_country['country_code'].unique():\n",
    "    country_data = medals_by_country[medals_by_country['country_code'] == country_code]\n",
    "    if len(country_data) >= sequence_length:\n",
    "        last_sequence = country_data[['game_year', 'country_code', 'BRONZE', 'GOLD', 'SILVER']].values[-sequence_length:]\n",
    "        last_sequences.append(last_sequence)\n",
    "        countries.append(country_code)\n",
    "\n",
    "last_sequences = np.array(last_sequences)\n",
    "\n",
    "# Faire des prédictions pour les JO 2024\n",
    "jo2024_predictions = []\n",
    "\n",
    "for seq in last_sequences:\n",
    "    pred = model.predict(seq[np.newaxis, :, :])\n",
    "    jo2024_predictions.append(pred[0])\n",
    "\n",
    "# Organiser les prédictions dans un tableau\n",
    "predictions_df = pd.DataFrame(jo2024_predictions, columns=['TotalBronze', 'TotalGold', 'TotalSilver'])\n",
    "predictions_df['Country'] = [country_mapping[code] for code in countries]\n",
    "\n"
   ]
  },
  {
   "cell_type": "code",
   "execution_count": null,
   "metadata": {},
   "outputs": [],
   "source": [
    "# Calculer le total des médailles\n",
    "predictions_df['TotalMedals'] = predictions_df['TotalBronze'] + predictions_df['TotalGold'] + predictions_df['TotalSilver']\n",
    "\n",
    "# Trier par ordre croissant du total des médailles et sélectionner le top 10\n",
    "top_10_df = predictions_df.sort_values(by='TotalMedals', ascending=False).head(10)\n",
    "\n",
    "# Réorganiser les colonnes\n",
    "top_10_df = top_10_df[['Country', 'TotalGold', 'TotalSilver', 'TotalBronze', 'TotalMedals']]\n",
    "\n",
    "# Exporter les résultats du top 10 en JSON\n",
    "top_10_df.to_json('top_10_predictions.json', orient='records', lines=True)"
   ]
  }
 ],
 "metadata": {
  "kernelspec": {
   "display_name": "Python 3",
   "language": "python",
   "name": "python3"
  },
  "language_info": {
   "codemirror_mode": {
    "name": "ipython",
    "version": 3
   },
   "file_extension": ".py",
   "mimetype": "text/x-python",
   "name": "python",
   "nbconvert_exporter": "python",
   "pygments_lexer": "ipython3",
   "version": "3.12.0"
  }
 },
 "nbformat": 4,
 "nbformat_minor": 2
}
